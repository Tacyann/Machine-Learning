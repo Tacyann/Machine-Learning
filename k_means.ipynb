{
  "nbformat": 4,
  "nbformat_minor": 0,
  "metadata": {
    "colab": {
      "name": "k-means.ipynb",
      "version": "0.3.2",
      "provenance": []
    },
    "kernelspec": {
      "name": "python2",
      "display_name": "Python 2"
    }
  },
  "cells": [
    {
      "cell_type": "code",
      "metadata": {
        "id": "m0MRrfQqZfTj",
        "colab_type": "code",
        "colab": {
          "base_uri": "https://localhost:8080/",
          "height": 286
        },
        "outputId": "bbeafed8-6655-4c04-f01a-12472342596d"
      },
      "source": [
        "from sklearn import datasets\n",
        "from sklearn.metrics import confusion_matrix\n",
        "import matplotlib.pyplot as plt\n",
        "from sklearn.cluster import KMeans\n",
        "\n",
        "iris = datasets.load_iris()\n",
        "\n",
        "cluster = KMeans(n_clusters = 3)\n",
        "cluster.fit(iris.data)\n",
        "\n",
        "previsoes = cluster.labels_\n",
        "centroides = cluster.cluster_centers_\n",
        "\n",
        "resultados = confusion_matrix(iris.target, previsoes)\n",
        "\n",
        "plt.scatter(iris.data[previsoes == 0, 0], iris.data[previsoes == 0, 3], \n",
        "            c = 'green', label = 'Setosa')\n",
        "plt.scatter(iris.data[previsoes == 1, 0], iris.data[previsoes == 1, 3], \n",
        "            c = 'red', label = 'Versicolor')\n",
        "plt.scatter(iris.data[previsoes == 2, 0], iris.data[previsoes == 2, 3], \n",
        "            c = 'blue', label = 'Virgica')\n",
        "plt.legend()"
      ],
      "execution_count": 1,
      "outputs": [
        {
          "output_type": "execute_result",
          "data": {
            "text/plain": [
              "<matplotlib.legend.Legend at 0x7fa71f55a590>"
            ]
          },
          "metadata": {
            "tags": []
          },
          "execution_count": 1
        },
        {
          "output_type": "display_data",
          "data": {
            "image/png": "[encoded data removed]",
            "text/plain": [
              "<Figure size 432x288 with 1 Axes>"
            ]
          },
          "metadata": {
            "tags": []
          }
        }
      ]
    }
  ]
}